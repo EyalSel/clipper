{
 "cells": [
  {
   "cell_type": "code",
   "execution_count": 0,
   "metadata": {
    "colab": {
     "base_uri": "https://localhost:8080/",
     "height": 34
    },
    "colab_type": "code",
    "id": "_S6OkIBGeRFf",
    "outputId": "a791f41d-ace7-46ad-beb8-31e890cf6797"
   },
   "outputs": [
    {
     "name": "stdout",
     "output_type": "stream",
     "text": [
      "1.12.0\n"
     ]
    }
   ],
   "source": [
    "import tensorflow as tf\n",
    "import numpy as np\n",
    "print(tf.__version__)\n",
    "import os\n",
    "from tensorflow import graph_util\n",
    "from google.colab import files"
   ]
  },
  {
   "cell_type": "code",
   "execution_count": 0,
   "metadata": {
    "colab": {},
    "colab_type": "code",
    "id": "Hyu7g83QeR-r"
   },
   "outputs": [],
   "source": [
    "identity_matrix_ex = tf.eye(3, dtype=\"int32\")\n",
    "x = tf.placeholder(tf.int32, shape=[3, 1], name=\"x\")\n",
    "identity_tensorflow_variable_ex = tf.get_variable(\"identity_tf_variable\",\n",
    "                                                   initializer=identity_matrix_ex)\n",
    "saver = tf.train.Saver()\n",
    "y = tf.matmul(identity_tensorflow_variable_ex, x, name=\"y\")"
   ]
  },
  {
   "cell_type": "code",
   "execution_count": 0,
   "metadata": {
    "colab": {},
    "colab_type": "code",
    "id": "SN03s1H_eWp2"
   },
   "outputs": [],
   "source": [
    "export_path_base = \"./savedmodel/\"\n",
    "\n",
    "tensor_info_x = tf.saved_model.utils.build_tensor_info(x)\n",
    "tensor_info_y = tf.saved_model.utils.build_tensor_info(y)\n",
    "\n",
    "\n",
    "builder = tf.saved_model.builder.SavedModelBuilder(export_path_base)\n",
    "with tf.Session() as sess:\n",
    "  sess.run(tf.global_variables_initializer())\n",
    "  \n",
    "  prediction_signature = (\n",
    "    tf.saved_model.signature_def_utils.build_signature_def(\n",
    "        inputs={'x_input': tensor_info_x},\n",
    "        outputs={'y_output': tensor_info_y},\n",
    "        method_name=tf.saved_model.signature_constants.PREDICT_METHOD_NAME))\n",
    "\n",
    "  builder.add_meta_graph_and_variables(\n",
    "    sess, [tf.saved_model.tag_constants.SERVING],\n",
    "    signature_def_map={\n",
    "        tf.saved_model.signature_constants.DEFAULT_SERVING_SIGNATURE_DEF_KEY:\n",
    "            prediction_signature})\n",
    "  builder.save()"
   ]
  },
  {
   "cell_type": "code",
   "execution_count": 0,
   "metadata": {
    "colab": {},
    "colab_type": "code",
    "id": "VJfrlQQwekVp"
   },
   "outputs": [],
   "source": [
    "print( os.getcwd() )\n",
    "print(os.listdir(\"./savedmodel/variables/\"))\n",
    "print(os.listdir(\"./savedmodel/\"))"
   ]
  },
  {
   "cell_type": "code",
   "execution_count": 0,
   "metadata": {
    "colab": {},
    "colab_type": "code",
    "id": "_xH8y5o-efG8"
   },
   "outputs": [],
   "source": [
    "files.download( \"./savedmodel/variables/variables.data-00000-of-00001\")\n",
    "files.download( \"./savedmodel/variables/variables.index\")\n",
    "files.download( \"./savedmodel/saved_model.pb\")"
   ]
  },
  {
   "cell_type": "code",
   "execution_count": 0,
   "metadata": {
    "colab": {},
    "colab_type": "code",
    "id": "HGn8wMjreqxV"
   },
   "outputs": [],
   "source": [
    "with tf.Session() as sess:\n",
    "\n",
    "  signature_key = tf.saved_model.signature_constants.DEFAULT_SERVING_SIGNATURE_DEF_KEY\n",
    "  input_key = 'x_input'\n",
    "  output_key = 'y_output'\n",
    "\n",
    "  export_path =  './savedmodel/'\n",
    "  meta_graph_def = tf.saved_model.loader.load(\n",
    "             sess,\n",
    "            [tf.saved_model.tag_constants.SERVING],\n",
    "            export_path)\n",
    "  signature = meta_graph_def.signature_def\n",
    "\n",
    "  x_tensor_name = signature[signature_key].inputs[input_key].name\n",
    "  y_tensor_name = signature[signature_key].outputs[output_key].name\n",
    "\n",
    "  x = sess.graph.get_tensor_by_name(x_tensor_name)\n",
    "  y = sess.graph.get_tensor_by_name(y_tensor_name)\n",
    "\n",
    "  y_out = sess.run(y, {x: np.reshape([3, 2, 1], (3,1))})"
   ]
  }
 ],
 "metadata": {
  "colab": {
   "collapsed_sections": [],
   "name": "Copy of Untitled0.ipynb",
   "provenance": [],
   "version": "0.3.2"
  },
  "kernelspec": {
   "display_name": "Python 3",
   "language": "python",
   "name": "python3"
  },
  "language_info": {
   "codemirror_mode": {
    "name": "ipython",
    "version": 3
   },
   "file_extension": ".py",
   "mimetype": "text/x-python",
   "name": "python",
   "nbconvert_exporter": "python",
   "pygments_lexer": "ipython3",
   "version": "3.6.5"
  }
 },
 "nbformat": 4,
 "nbformat_minor": 1
}
